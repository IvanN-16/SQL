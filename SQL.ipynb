{
 "cells": [
  {
   "cell_type": "markdown",
   "metadata": {},
   "source": [
    "# Изучение данных "
   ]
  },
  {
   "cell_type": "code",
   "execution_count": 1,
   "metadata": {},
   "outputs": [],
   "source": [
    "# импортируем библиотеки\n",
    "import pandas as pd\n",
    "from sqlalchemy import text, create_engine"
   ]
  },
  {
   "cell_type": "code",
   "execution_count": 2,
   "metadata": {},
   "outputs": [],
   "source": [
    "# устанавливаем параметры\n",
    "db_config = {'user': 'praktikum_student', # имя пользователя\n",
    "'pwd': 'Sdf4$2;d-d30pp', # пароль\n",
    "'host': 'rc1b-wcoijxj3yxfsf3fs.mdb.yandexcloud.net',\n",
    "'port': 6432, # порт подключения\n",
    "'db': 'data-analyst-final-project-db'} # название базы данных\n",
    "connection_string = 'postgresql://{user}:{pwd}@{host}:{port}/{db}'.format(**db_config)"
   ]
  },
  {
   "cell_type": "code",
   "execution_count": 3,
   "metadata": {},
   "outputs": [],
   "source": [
    "# сохраняем коннектор\n",
    "engine = create_engine(connection_string, connect_args={'sslmode':'require'})"
   ]
  },
  {
   "cell_type": "code",
   "execution_count": 4,
   "metadata": {},
   "outputs": [],
   "source": [
    "# чтобы выполнить SQL-запрос, используем Pandas\n",
    "query = '''SELECT * FROM books LIMIT 5'''"
   ]
  },
  {
   "cell_type": "code",
   "execution_count": 5,
   "metadata": {},
   "outputs": [],
   "source": [
    "con=engine.connect()"
   ]
  },
  {
   "cell_type": "code",
   "execution_count": 6,
   "metadata": {},
   "outputs": [
    {
     "data": {
      "text/html": [
       "<div>\n",
       "<style scoped>\n",
       "    .dataframe tbody tr th:only-of-type {\n",
       "        vertical-align: middle;\n",
       "    }\n",
       "\n",
       "    .dataframe tbody tr th {\n",
       "        vertical-align: top;\n",
       "    }\n",
       "\n",
       "    .dataframe thead th {\n",
       "        text-align: right;\n",
       "    }\n",
       "</style>\n",
       "<table border=\"1\" class=\"dataframe\">\n",
       "  <thead>\n",
       "    <tr style=\"text-align: right;\">\n",
       "      <th></th>\n",
       "      <th>book_id</th>\n",
       "      <th>author_id</th>\n",
       "      <th>title</th>\n",
       "      <th>num_pages</th>\n",
       "      <th>publication_date</th>\n",
       "      <th>publisher_id</th>\n",
       "    </tr>\n",
       "  </thead>\n",
       "  <tbody>\n",
       "    <tr>\n",
       "      <th>0</th>\n",
       "      <td>1</td>\n",
       "      <td>546</td>\n",
       "      <td>'Salem's Lot</td>\n",
       "      <td>594</td>\n",
       "      <td>2005-11-01</td>\n",
       "      <td>93</td>\n",
       "    </tr>\n",
       "    <tr>\n",
       "      <th>1</th>\n",
       "      <td>2</td>\n",
       "      <td>465</td>\n",
       "      <td>1 000 Places to See Before You Die</td>\n",
       "      <td>992</td>\n",
       "      <td>2003-05-22</td>\n",
       "      <td>336</td>\n",
       "    </tr>\n",
       "    <tr>\n",
       "      <th>2</th>\n",
       "      <td>3</td>\n",
       "      <td>407</td>\n",
       "      <td>13 Little Blue Envelopes (Little Blue Envelope...</td>\n",
       "      <td>322</td>\n",
       "      <td>2010-12-21</td>\n",
       "      <td>135</td>\n",
       "    </tr>\n",
       "    <tr>\n",
       "      <th>3</th>\n",
       "      <td>4</td>\n",
       "      <td>82</td>\n",
       "      <td>1491: New Revelations of the Americas Before C...</td>\n",
       "      <td>541</td>\n",
       "      <td>2006-10-10</td>\n",
       "      <td>309</td>\n",
       "    </tr>\n",
       "    <tr>\n",
       "      <th>4</th>\n",
       "      <td>5</td>\n",
       "      <td>125</td>\n",
       "      <td>1776</td>\n",
       "      <td>386</td>\n",
       "      <td>2006-07-04</td>\n",
       "      <td>268</td>\n",
       "    </tr>\n",
       "  </tbody>\n",
       "</table>\n",
       "</div>"
      ],
      "text/plain": [
       "   book_id  author_id                                              title  \\\n",
       "0        1        546                                       'Salem's Lot   \n",
       "1        2        465                 1 000 Places to See Before You Die   \n",
       "2        3        407  13 Little Blue Envelopes (Little Blue Envelope...   \n",
       "3        4         82  1491: New Revelations of the Americas Before C...   \n",
       "4        5        125                                               1776   \n",
       "\n",
       "   num_pages publication_date  publisher_id  \n",
       "0        594       2005-11-01            93  \n",
       "1        992       2003-05-22           336  \n",
       "2        322       2010-12-21           135  \n",
       "3        541       2006-10-10           309  \n",
       "4        386       2006-07-04           268  "
      ]
     },
     "execution_count": 6,
     "metadata": {},
     "output_type": "execute_result"
    }
   ],
   "source": [
    "pd.io.sql.read_sql(sql=text(query), con = con)"
   ]
  },
  {
   "cell_type": "code",
   "execution_count": 7,
   "metadata": {},
   "outputs": [
    {
     "name": "stdout",
     "output_type": "stream",
     "text": [
      "<class 'pandas.core.frame.DataFrame'>\n",
      "RangeIndex: 5 entries, 0 to 4\n",
      "Data columns (total 6 columns):\n",
      " #   Column            Non-Null Count  Dtype \n",
      "---  ------            --------------  ----- \n",
      " 0   book_id           5 non-null      int64 \n",
      " 1   author_id         5 non-null      int64 \n",
      " 2   title             5 non-null      object\n",
      " 3   num_pages         5 non-null      int64 \n",
      " 4   publication_date  5 non-null      object\n",
      " 5   publisher_id      5 non-null      int64 \n",
      "dtypes: int64(4), object(2)\n",
      "memory usage: 368.0+ bytes\n"
     ]
    }
   ],
   "source": [
    "pd.io.sql.read_sql(sql=text(query), con = con).info()"
   ]
  },
  {
   "cell_type": "code",
   "execution_count": 8,
   "metadata": {},
   "outputs": [
    {
     "data": {
      "text/html": [
       "<div>\n",
       "<style scoped>\n",
       "    .dataframe tbody tr th:only-of-type {\n",
       "        vertical-align: middle;\n",
       "    }\n",
       "\n",
       "    .dataframe tbody tr th {\n",
       "        vertical-align: top;\n",
       "    }\n",
       "\n",
       "    .dataframe thead th {\n",
       "        text-align: right;\n",
       "    }\n",
       "</style>\n",
       "<table border=\"1\" class=\"dataframe\">\n",
       "  <thead>\n",
       "    <tr style=\"text-align: right;\">\n",
       "      <th></th>\n",
       "      <th>book_id</th>\n",
       "      <th>author_id</th>\n",
       "      <th>num_pages</th>\n",
       "      <th>publisher_id</th>\n",
       "    </tr>\n",
       "  </thead>\n",
       "  <tbody>\n",
       "    <tr>\n",
       "      <th>count</th>\n",
       "      <td>5.000000</td>\n",
       "      <td>5.000000</td>\n",
       "      <td>5.000000</td>\n",
       "      <td>5.000000</td>\n",
       "    </tr>\n",
       "    <tr>\n",
       "      <th>mean</th>\n",
       "      <td>3.000000</td>\n",
       "      <td>325.000000</td>\n",
       "      <td>567.000000</td>\n",
       "      <td>228.200000</td>\n",
       "    </tr>\n",
       "    <tr>\n",
       "      <th>std</th>\n",
       "      <td>1.581139</td>\n",
       "      <td>208.694753</td>\n",
       "      <td>262.114479</td>\n",
       "      <td>108.049526</td>\n",
       "    </tr>\n",
       "    <tr>\n",
       "      <th>min</th>\n",
       "      <td>1.000000</td>\n",
       "      <td>82.000000</td>\n",
       "      <td>322.000000</td>\n",
       "      <td>93.000000</td>\n",
       "    </tr>\n",
       "    <tr>\n",
       "      <th>25%</th>\n",
       "      <td>2.000000</td>\n",
       "      <td>125.000000</td>\n",
       "      <td>386.000000</td>\n",
       "      <td>135.000000</td>\n",
       "    </tr>\n",
       "    <tr>\n",
       "      <th>50%</th>\n",
       "      <td>3.000000</td>\n",
       "      <td>407.000000</td>\n",
       "      <td>541.000000</td>\n",
       "      <td>268.000000</td>\n",
       "    </tr>\n",
       "    <tr>\n",
       "      <th>75%</th>\n",
       "      <td>4.000000</td>\n",
       "      <td>465.000000</td>\n",
       "      <td>594.000000</td>\n",
       "      <td>309.000000</td>\n",
       "    </tr>\n",
       "    <tr>\n",
       "      <th>max</th>\n",
       "      <td>5.000000</td>\n",
       "      <td>546.000000</td>\n",
       "      <td>992.000000</td>\n",
       "      <td>336.000000</td>\n",
       "    </tr>\n",
       "  </tbody>\n",
       "</table>\n",
       "</div>"
      ],
      "text/plain": [
       "        book_id   author_id   num_pages  publisher_id\n",
       "count  5.000000    5.000000    5.000000      5.000000\n",
       "mean   3.000000  325.000000  567.000000    228.200000\n",
       "std    1.581139  208.694753  262.114479    108.049526\n",
       "min    1.000000   82.000000  322.000000     93.000000\n",
       "25%    2.000000  125.000000  386.000000    135.000000\n",
       "50%    3.000000  407.000000  541.000000    268.000000\n",
       "75%    4.000000  465.000000  594.000000    309.000000\n",
       "max    5.000000  546.000000  992.000000    336.000000"
      ]
     },
     "execution_count": 8,
     "metadata": {},
     "output_type": "execute_result"
    }
   ],
   "source": [
    "pd.io.sql.read_sql(sql=text(query), con = con).describe()"
   ]
  },
  {
   "cell_type": "markdown",
   "metadata": {},
   "source": [
    "* Посмотрим данные "
   ]
  },
  {
   "cell_type": "code",
   "execution_count": 9,
   "metadata": {},
   "outputs": [],
   "source": [
    "# чтобы выполнить SQL-запрос, используем Pandas\n",
    "query = '''SELECT * FROM books LIMIT 5'''"
   ]
  },
  {
   "cell_type": "code",
   "execution_count": 10,
   "metadata": {},
   "outputs": [],
   "source": [
    "con=engine.connect()"
   ]
  },
  {
   "cell_type": "code",
   "execution_count": 11,
   "metadata": {},
   "outputs": [
    {
     "data": {
      "text/html": [
       "<div>\n",
       "<style scoped>\n",
       "    .dataframe tbody tr th:only-of-type {\n",
       "        vertical-align: middle;\n",
       "    }\n",
       "\n",
       "    .dataframe tbody tr th {\n",
       "        vertical-align: top;\n",
       "    }\n",
       "\n",
       "    .dataframe thead th {\n",
       "        text-align: right;\n",
       "    }\n",
       "</style>\n",
       "<table border=\"1\" class=\"dataframe\">\n",
       "  <thead>\n",
       "    <tr style=\"text-align: right;\">\n",
       "      <th></th>\n",
       "      <th>book_id</th>\n",
       "      <th>author_id</th>\n",
       "      <th>num_pages</th>\n",
       "      <th>publisher_id</th>\n",
       "    </tr>\n",
       "  </thead>\n",
       "  <tbody>\n",
       "    <tr>\n",
       "      <th>count</th>\n",
       "      <td>5.000000</td>\n",
       "      <td>5.000000</td>\n",
       "      <td>5.000000</td>\n",
       "      <td>5.000000</td>\n",
       "    </tr>\n",
       "    <tr>\n",
       "      <th>mean</th>\n",
       "      <td>3.000000</td>\n",
       "      <td>325.000000</td>\n",
       "      <td>567.000000</td>\n",
       "      <td>228.200000</td>\n",
       "    </tr>\n",
       "    <tr>\n",
       "      <th>std</th>\n",
       "      <td>1.581139</td>\n",
       "      <td>208.694753</td>\n",
       "      <td>262.114479</td>\n",
       "      <td>108.049526</td>\n",
       "    </tr>\n",
       "    <tr>\n",
       "      <th>min</th>\n",
       "      <td>1.000000</td>\n",
       "      <td>82.000000</td>\n",
       "      <td>322.000000</td>\n",
       "      <td>93.000000</td>\n",
       "    </tr>\n",
       "    <tr>\n",
       "      <th>25%</th>\n",
       "      <td>2.000000</td>\n",
       "      <td>125.000000</td>\n",
       "      <td>386.000000</td>\n",
       "      <td>135.000000</td>\n",
       "    </tr>\n",
       "    <tr>\n",
       "      <th>50%</th>\n",
       "      <td>3.000000</td>\n",
       "      <td>407.000000</td>\n",
       "      <td>541.000000</td>\n",
       "      <td>268.000000</td>\n",
       "    </tr>\n",
       "    <tr>\n",
       "      <th>75%</th>\n",
       "      <td>4.000000</td>\n",
       "      <td>465.000000</td>\n",
       "      <td>594.000000</td>\n",
       "      <td>309.000000</td>\n",
       "    </tr>\n",
       "    <tr>\n",
       "      <th>max</th>\n",
       "      <td>5.000000</td>\n",
       "      <td>546.000000</td>\n",
       "      <td>992.000000</td>\n",
       "      <td>336.000000</td>\n",
       "    </tr>\n",
       "  </tbody>\n",
       "</table>\n",
       "</div>"
      ],
      "text/plain": [
       "        book_id   author_id   num_pages  publisher_id\n",
       "count  5.000000    5.000000    5.000000      5.000000\n",
       "mean   3.000000  325.000000  567.000000    228.200000\n",
       "std    1.581139  208.694753  262.114479    108.049526\n",
       "min    1.000000   82.000000  322.000000     93.000000\n",
       "25%    2.000000  125.000000  386.000000    135.000000\n",
       "50%    3.000000  407.000000  541.000000    268.000000\n",
       "75%    4.000000  465.000000  594.000000    309.000000\n",
       "max    5.000000  546.000000  992.000000    336.000000"
      ]
     },
     "execution_count": 11,
     "metadata": {},
     "output_type": "execute_result"
    }
   ],
   "source": [
    "pd.io.sql.read_sql(sql=text(query), con = con).describe()"
   ]
  },
  {
   "cell_type": "code",
   "execution_count": 12,
   "metadata": {},
   "outputs": [],
   "source": [
    "query = '''SELECT COUNT(*) FROM books''' # посмтрим количество книг"
   ]
  },
  {
   "cell_type": "code",
   "execution_count": 13,
   "metadata": {},
   "outputs": [
    {
     "data": {
      "text/html": [
       "<div>\n",
       "<style scoped>\n",
       "    .dataframe tbody tr th:only-of-type {\n",
       "        vertical-align: middle;\n",
       "    }\n",
       "\n",
       "    .dataframe tbody tr th {\n",
       "        vertical-align: top;\n",
       "    }\n",
       "\n",
       "    .dataframe thead th {\n",
       "        text-align: right;\n",
       "    }\n",
       "</style>\n",
       "<table border=\"1\" class=\"dataframe\">\n",
       "  <thead>\n",
       "    <tr style=\"text-align: right;\">\n",
       "      <th></th>\n",
       "      <th>count</th>\n",
       "    </tr>\n",
       "  </thead>\n",
       "  <tbody>\n",
       "    <tr>\n",
       "      <th>0</th>\n",
       "      <td>1000</td>\n",
       "    </tr>\n",
       "  </tbody>\n",
       "</table>\n",
       "</div>"
      ],
      "text/plain": [
       "   count\n",
       "0   1000"
      ]
     },
     "execution_count": 13,
     "metadata": {},
     "output_type": "execute_result"
    }
   ],
   "source": [
    "pd.io.sql.read_sql(sql=text(query), con = con)"
   ]
  },
  {
   "cell_type": "code",
   "execution_count": 14,
   "metadata": {},
   "outputs": [],
   "source": [
    "query = '''SELECT COUNT(*) FROM authors''' # кол-во авторов \n"
   ]
  },
  {
   "cell_type": "code",
   "execution_count": 15,
   "metadata": {},
   "outputs": [
    {
     "data": {
      "text/html": [
       "<div>\n",
       "<style scoped>\n",
       "    .dataframe tbody tr th:only-of-type {\n",
       "        vertical-align: middle;\n",
       "    }\n",
       "\n",
       "    .dataframe tbody tr th {\n",
       "        vertical-align: top;\n",
       "    }\n",
       "\n",
       "    .dataframe thead th {\n",
       "        text-align: right;\n",
       "    }\n",
       "</style>\n",
       "<table border=\"1\" class=\"dataframe\">\n",
       "  <thead>\n",
       "    <tr style=\"text-align: right;\">\n",
       "      <th></th>\n",
       "      <th>count</th>\n",
       "    </tr>\n",
       "  </thead>\n",
       "  <tbody>\n",
       "    <tr>\n",
       "      <th>0</th>\n",
       "      <td>636</td>\n",
       "    </tr>\n",
       "  </tbody>\n",
       "</table>\n",
       "</div>"
      ],
      "text/plain": [
       "   count\n",
       "0    636"
      ]
     },
     "execution_count": 15,
     "metadata": {},
     "output_type": "execute_result"
    }
   ],
   "source": [
    "pd.io.sql.read_sql(sql=text(query), con = con)"
   ]
  },
  {
   "cell_type": "markdown",
   "metadata": {},
   "source": [
    "* # **Посчитайте сколько книг вышло после 1 января 2000 года**"
   ]
  },
  {
   "cell_type": "code",
   "execution_count": 16,
   "metadata": {},
   "outputs": [],
   "source": [
    "query = ''' \n",
    "            SELECT COUNT(*)\n",
    "            FROM books\n",
    "            WHERE publication_date::date BETWEEN '2000-01-01' and '2222-01-01'\n",
    "        '''"
   ]
  },
  {
   "cell_type": "code",
   "execution_count": 17,
   "metadata": {},
   "outputs": [
    {
     "data": {
      "text/html": [
       "<div>\n",
       "<style scoped>\n",
       "    .dataframe tbody tr th:only-of-type {\n",
       "        vertical-align: middle;\n",
       "    }\n",
       "\n",
       "    .dataframe tbody tr th {\n",
       "        vertical-align: top;\n",
       "    }\n",
       "\n",
       "    .dataframe thead th {\n",
       "        text-align: right;\n",
       "    }\n",
       "</style>\n",
       "<table border=\"1\" class=\"dataframe\">\n",
       "  <thead>\n",
       "    <tr style=\"text-align: right;\">\n",
       "      <th></th>\n",
       "      <th>count</th>\n",
       "    </tr>\n",
       "  </thead>\n",
       "  <tbody>\n",
       "    <tr>\n",
       "      <th>0</th>\n",
       "      <td>821</td>\n",
       "    </tr>\n",
       "  </tbody>\n",
       "</table>\n",
       "</div>"
      ],
      "text/plain": [
       "   count\n",
       "0    821"
      ]
     },
     "execution_count": 17,
     "metadata": {},
     "output_type": "execute_result"
    }
   ],
   "source": [
    "pd.io.sql.read_sql(sql=text(query), con = con)"
   ]
  },
  {
   "cell_type": "markdown",
   "metadata": {},
   "source": [
    "* # Для каждой книги посчитайте количество обзоров и среднюю оценку"
   ]
  },
  {
   "cell_type": "code",
   "execution_count": 18,
   "metadata": {},
   "outputs": [],
   "source": [
    "query = ''' \n",
    "            SELECT boo.title,\n",
    "                   boo.book_id,\n",
    "                   COUNT(DISTINCT rv.review_id) AS count_rev,\n",
    "                   ROUND(AVG(r.rating),2) AS avg_rat\n",
    "            FROM books AS boo\n",
    "            \n",
    "            \n",
    "            LEFT JOIN reviews AS rv\n",
    "            ON boo.book_id = rv.book_id\n",
    "            \n",
    "            LEFT JOIN ratings AS r\n",
    "            ON boo.book_id = r.book_id\n",
    "            \n",
    "            GROUP BY boo.book_id, boo.title\n",
    "            ORDER BY count_rev DESC, avg_rat DESC\n",
    "            \n",
    "        '''"
   ]
  },
  {
   "cell_type": "code",
   "execution_count": 19,
   "metadata": {},
   "outputs": [
    {
     "data": {
      "text/html": [
       "<div>\n",
       "<style scoped>\n",
       "    .dataframe tbody tr th:only-of-type {\n",
       "        vertical-align: middle;\n",
       "    }\n",
       "\n",
       "    .dataframe tbody tr th {\n",
       "        vertical-align: top;\n",
       "    }\n",
       "\n",
       "    .dataframe thead th {\n",
       "        text-align: right;\n",
       "    }\n",
       "</style>\n",
       "<table border=\"1\" class=\"dataframe\">\n",
       "  <thead>\n",
       "    <tr style=\"text-align: right;\">\n",
       "      <th></th>\n",
       "      <th>title</th>\n",
       "      <th>book_id</th>\n",
       "      <th>count_rev</th>\n",
       "      <th>avg_rat</th>\n",
       "    </tr>\n",
       "  </thead>\n",
       "  <tbody>\n",
       "    <tr>\n",
       "      <th>0</th>\n",
       "      <td>Twilight (Twilight  #1)</td>\n",
       "      <td>948</td>\n",
       "      <td>7</td>\n",
       "      <td>3.66</td>\n",
       "    </tr>\n",
       "    <tr>\n",
       "      <th>1</th>\n",
       "      <td>Harry Potter and the Prisoner of Azkaban (Harr...</td>\n",
       "      <td>302</td>\n",
       "      <td>6</td>\n",
       "      <td>4.41</td>\n",
       "    </tr>\n",
       "    <tr>\n",
       "      <th>2</th>\n",
       "      <td>Harry Potter and the Chamber of Secrets (Harry...</td>\n",
       "      <td>299</td>\n",
       "      <td>6</td>\n",
       "      <td>4.29</td>\n",
       "    </tr>\n",
       "    <tr>\n",
       "      <th>3</th>\n",
       "      <td>The Book Thief</td>\n",
       "      <td>656</td>\n",
       "      <td>6</td>\n",
       "      <td>4.26</td>\n",
       "    </tr>\n",
       "    <tr>\n",
       "      <th>4</th>\n",
       "      <td>The Glass Castle</td>\n",
       "      <td>734</td>\n",
       "      <td>6</td>\n",
       "      <td>4.21</td>\n",
       "    </tr>\n",
       "    <tr>\n",
       "      <th>...</th>\n",
       "      <td>...</td>\n",
       "      <td>...</td>\n",
       "      <td>...</td>\n",
       "      <td>...</td>\n",
       "    </tr>\n",
       "    <tr>\n",
       "      <th>995</th>\n",
       "      <td>Disney's Beauty and the Beast (A Little Golden...</td>\n",
       "      <td>191</td>\n",
       "      <td>0</td>\n",
       "      <td>4.00</td>\n",
       "    </tr>\n",
       "    <tr>\n",
       "      <th>996</th>\n",
       "      <td>Leonardo's Notebooks</td>\n",
       "      <td>387</td>\n",
       "      <td>0</td>\n",
       "      <td>4.00</td>\n",
       "    </tr>\n",
       "    <tr>\n",
       "      <th>997</th>\n",
       "      <td>Essential Tales and Poems</td>\n",
       "      <td>221</td>\n",
       "      <td>0</td>\n",
       "      <td>4.00</td>\n",
       "    </tr>\n",
       "    <tr>\n",
       "      <th>998</th>\n",
       "      <td>Anne Rice's The Vampire Lestat: A Graphic Novel</td>\n",
       "      <td>83</td>\n",
       "      <td>0</td>\n",
       "      <td>3.67</td>\n",
       "    </tr>\n",
       "    <tr>\n",
       "      <th>999</th>\n",
       "      <td>The Natural Way to Draw</td>\n",
       "      <td>808</td>\n",
       "      <td>0</td>\n",
       "      <td>3.00</td>\n",
       "    </tr>\n",
       "  </tbody>\n",
       "</table>\n",
       "<p>1000 rows × 4 columns</p>\n",
       "</div>"
      ],
      "text/plain": [
       "                                                 title  book_id  count_rev  \\\n",
       "0                              Twilight (Twilight  #1)      948          7   \n",
       "1    Harry Potter and the Prisoner of Azkaban (Harr...      302          6   \n",
       "2    Harry Potter and the Chamber of Secrets (Harry...      299          6   \n",
       "3                                       The Book Thief      656          6   \n",
       "4                                     The Glass Castle      734          6   \n",
       "..                                                 ...      ...        ...   \n",
       "995  Disney's Beauty and the Beast (A Little Golden...      191          0   \n",
       "996                               Leonardo's Notebooks      387          0   \n",
       "997                          Essential Tales and Poems      221          0   \n",
       "998    Anne Rice's The Vampire Lestat: A Graphic Novel       83          0   \n",
       "999                            The Natural Way to Draw      808          0   \n",
       "\n",
       "     avg_rat  \n",
       "0       3.66  \n",
       "1       4.41  \n",
       "2       4.29  \n",
       "3       4.26  \n",
       "4       4.21  \n",
       "..       ...  \n",
       "995     4.00  \n",
       "996     4.00  \n",
       "997     4.00  \n",
       "998     3.67  \n",
       "999     3.00  \n",
       "\n",
       "[1000 rows x 4 columns]"
      ]
     },
     "execution_count": 19,
     "metadata": {},
     "output_type": "execute_result"
    }
   ],
   "source": [
    "pd.io.sql.read_sql(sql=text(query), con = con)"
   ]
  },
  {
   "cell_type": "markdown",
   "metadata": {},
   "source": []
  },
  {
   "cell_type": "markdown",
   "metadata": {},
   "source": [
    "* #  Определите издательсво, которое выпустило наибольшее число книг толще 50 страниц, таким образом исключим из анализа брошюры."
   ]
  },
  {
   "cell_type": "code",
   "execution_count": 20,
   "metadata": {},
   "outputs": [],
   "source": [
    "query = ''' \n",
    "            SELECT publisher, \n",
    "                   COUNT(book_id) as books_amount\n",
    "                   \n",
    "            FROM books \n",
    "            LEFT JOIN publishers ON books.publisher_id = publishers.publisher_id\n",
    "            WHERE num_pages > 50\n",
    "            GROUP BY publisher\n",
    "            ORDER BY books_amount DESC\n",
    "            LIMIT 1            \n",
    "        '''"
   ]
  },
  {
   "cell_type": "code",
   "execution_count": 21,
   "metadata": {
    "scrolled": true
   },
   "outputs": [
    {
     "data": {
      "text/html": [
       "<div>\n",
       "<style scoped>\n",
       "    .dataframe tbody tr th:only-of-type {\n",
       "        vertical-align: middle;\n",
       "    }\n",
       "\n",
       "    .dataframe tbody tr th {\n",
       "        vertical-align: top;\n",
       "    }\n",
       "\n",
       "    .dataframe thead th {\n",
       "        text-align: right;\n",
       "    }\n",
       "</style>\n",
       "<table border=\"1\" class=\"dataframe\">\n",
       "  <thead>\n",
       "    <tr style=\"text-align: right;\">\n",
       "      <th></th>\n",
       "      <th>publisher</th>\n",
       "      <th>books_amount</th>\n",
       "    </tr>\n",
       "  </thead>\n",
       "  <tbody>\n",
       "    <tr>\n",
       "      <th>0</th>\n",
       "      <td>Penguin Books</td>\n",
       "      <td>42</td>\n",
       "    </tr>\n",
       "  </tbody>\n",
       "</table>\n",
       "</div>"
      ],
      "text/plain": [
       "       publisher  books_amount\n",
       "0  Penguin Books            42"
      ]
     },
     "execution_count": 21,
     "metadata": {},
     "output_type": "execute_result"
    }
   ],
   "source": [
    "pd.io.sql.read_sql(sql=text(query), con = con)"
   ]
  },
  {
   "cell_type": "markdown",
   "metadata": {},
   "source": [
    "* #  Опредилите автора с самой высокой средней оценкой книг - учитывайте только книги с 50 и более оценками"
   ]
  },
  {
   "cell_type": "code",
   "execution_count": 22,
   "metadata": {},
   "outputs": [],
   "source": [
    "query = '''             \n",
    "        SELECT author,\n",
    "               ROUND(AVG(avg_raiting), 3) AS avg_raiting, \n",
    "        SUM(rating_count) AS rate_count\n",
    "        FROM    \n",
    "        (SELECT author_id, \n",
    "                title, \n",
    "                AVG(rating) AS avg_raiting, \n",
    "                COUNT(rating) AS rating_count\n",
    "        FROM books \n",
    "        LEFT JOIN ratings ON books.book_id = ratings.book_id \n",
    "        GROUP BY title, author_id\n",
    "        HAVING COUNT(rating_id) >= 50) as first\n",
    "        LEFT JOIN authors ON first.author_id = authors.author_id\n",
    "        GROUP BY author\n",
    "        ORDER BY avg_raiting DESC\n",
    "        LIMIT 1                \n",
    "        '''"
   ]
  },
  {
   "cell_type": "code",
   "execution_count": 23,
   "metadata": {
    "scrolled": true
   },
   "outputs": [
    {
     "data": {
      "text/html": [
       "<div>\n",
       "<style scoped>\n",
       "    .dataframe tbody tr th:only-of-type {\n",
       "        vertical-align: middle;\n",
       "    }\n",
       "\n",
       "    .dataframe tbody tr th {\n",
       "        vertical-align: top;\n",
       "    }\n",
       "\n",
       "    .dataframe thead th {\n",
       "        text-align: right;\n",
       "    }\n",
       "</style>\n",
       "<table border=\"1\" class=\"dataframe\">\n",
       "  <thead>\n",
       "    <tr style=\"text-align: right;\">\n",
       "      <th></th>\n",
       "      <th>author</th>\n",
       "      <th>avg_raiting</th>\n",
       "      <th>rate_count</th>\n",
       "    </tr>\n",
       "  </thead>\n",
       "  <tbody>\n",
       "    <tr>\n",
       "      <th>0</th>\n",
       "      <td>J.K. Rowling/Mary GrandPré</td>\n",
       "      <td>4.284</td>\n",
       "      <td>310.0</td>\n",
       "    </tr>\n",
       "  </tbody>\n",
       "</table>\n",
       "</div>"
      ],
      "text/plain": [
       "                       author  avg_raiting  rate_count\n",
       "0  J.K. Rowling/Mary GrandPré        4.284       310.0"
      ]
     },
     "execution_count": 23,
     "metadata": {},
     "output_type": "execute_result"
    }
   ],
   "source": [
    "pd.io.sql.read_sql(sql=text(query), con = con)"
   ]
  },
  {
   "cell_type": "markdown",
   "metadata": {},
   "source": []
  },
  {
   "cell_type": "markdown",
   "metadata": {},
   "source": [
    "* # Посчитайте среднее количество обзоров от пользователей, которые поставили больше 48 оценок"
   ]
  },
  {
   "cell_type": "code",
   "execution_count": 24,
   "metadata": {},
   "outputs": [],
   "source": [
    "query = '''             \n",
    "        SELECT ROUND(AVG(rev_counts)) AS avg_rev\n",
    "        FROM\n",
    "            (SELECT COUNT(review_id) AS rev_counts\n",
    "            FROM\n",
    "                (SELECT username \n",
    "                FROM ratings\n",
    "                GROUP BY username\n",
    "                HAVING COUNT(rating_id) > 48) AS sub\n",
    "            LEFT JOIN reviews ON sub.username = reviews.username\n",
    "            GROUP BY sub.username) AS sub_2\n",
    "        '''"
   ]
  },
  {
   "cell_type": "code",
   "execution_count": 25,
   "metadata": {},
   "outputs": [
    {
     "data": {
      "text/html": [
       "<div>\n",
       "<style scoped>\n",
       "    .dataframe tbody tr th:only-of-type {\n",
       "        vertical-align: middle;\n",
       "    }\n",
       "\n",
       "    .dataframe tbody tr th {\n",
       "        vertical-align: top;\n",
       "    }\n",
       "\n",
       "    .dataframe thead th {\n",
       "        text-align: right;\n",
       "    }\n",
       "</style>\n",
       "<table border=\"1\" class=\"dataframe\">\n",
       "  <thead>\n",
       "    <tr style=\"text-align: right;\">\n",
       "      <th></th>\n",
       "      <th>avg_rev</th>\n",
       "    </tr>\n",
       "  </thead>\n",
       "  <tbody>\n",
       "    <tr>\n",
       "      <th>0</th>\n",
       "      <td>24.0</td>\n",
       "    </tr>\n",
       "  </tbody>\n",
       "</table>\n",
       "</div>"
      ],
      "text/plain": [
       "   avg_rev\n",
       "0     24.0"
      ]
     },
     "execution_count": 25,
     "metadata": {},
     "output_type": "execute_result"
    }
   ],
   "source": [
    "pd.io.sql.read_sql(sql=text(query), con = con)"
   ]
  },
  {
   "cell_type": "markdown",
   "metadata": {},
   "source": []
  },
  {
   "cell_type": "markdown",
   "metadata": {},
   "source": [
    "# Вывод"
   ]
  },
  {
   "cell_type": "markdown",
   "metadata": {},
   "source": [
    "Итоговые выводы\n",
    "Данные содержат:\n",
    "\n",
    "1000 книг;\n",
    "636 авторах;\n",
    "\n",
    "В результате исследования пришли к следующим выводам:\n",
    "* 82% книг (809 из 1000) были изданы в 21 веке, а это значит рассчитаны на молодую аудиторию.\n",
    "Есть над чем задуматся как привлечь аудиторию старше 30+ и получить дополнительную прибыль.\n",
    "    \n",
    "* Издательсво Penguin books (42 книги) является рекордсменом по числу книг.\n",
    "* Самым популярным автором является J.K. Rowling/Mary GrandPré с рейтингом 4.28. \n",
    "    \n"
   ]
  },
  {
   "cell_type": "code",
   "execution_count": null,
   "metadata": {},
   "outputs": [],
   "source": []
  }
 ],
 "metadata": {
  "ExecuteTimeLog": [
   {
    "duration": 545,
    "start_time": "2024-02-25T17:37:03.954Z"
   },
   {
    "duration": 3,
    "start_time": "2024-02-25T17:38:28.635Z"
   },
   {
    "duration": 585,
    "start_time": "2024-02-25T17:39:41.955Z"
   },
   {
    "duration": 3,
    "start_time": "2024-02-25T17:39:42.542Z"
   },
   {
    "duration": 7783,
    "start_time": "2024-02-25T17:39:42.547Z"
   },
   {
    "duration": 4,
    "start_time": "2024-02-25T17:39:50.332Z"
   },
   {
    "duration": 178,
    "start_time": "2024-02-25T17:39:50.337Z"
   },
   {
    "duration": 49,
    "start_time": "2024-02-25T17:39:50.516Z"
   },
   {
    "duration": 4,
    "start_time": "2024-02-25T17:44:30.708Z"
   },
   {
    "duration": 336,
    "start_time": "2024-02-25T17:44:46.074Z"
   },
   {
    "duration": 227,
    "start_time": "2024-02-25T17:49:03.843Z"
   },
   {
    "duration": 214,
    "start_time": "2024-02-25T17:49:48.137Z"
   },
   {
    "duration": 292,
    "start_time": "2024-02-25T17:50:19.079Z"
   },
   {
    "duration": 280,
    "start_time": "2024-02-25T17:50:49.844Z"
   },
   {
    "duration": 2,
    "start_time": "2024-02-25T17:53:19.875Z"
   },
   {
    "duration": 71,
    "start_time": "2024-02-25T17:53:30.832Z"
   },
   {
    "duration": 3,
    "start_time": "2024-02-25T19:07:21.412Z"
   },
   {
    "duration": 108,
    "start_time": "2024-02-25T19:07:31.393Z"
   },
   {
    "duration": 103,
    "start_time": "2024-02-25T19:10:15.562Z"
   },
   {
    "duration": 3,
    "start_time": "2024-02-25T19:12:07.865Z"
   },
   {
    "duration": 83,
    "start_time": "2024-02-25T19:12:18.891Z"
   },
   {
    "duration": 71,
    "start_time": "2024-02-25T19:13:40.958Z"
   },
   {
    "duration": 3,
    "start_time": "2024-02-25T19:14:07.754Z"
   },
   {
    "duration": 83,
    "start_time": "2024-02-25T19:14:18.844Z"
   },
   {
    "duration": 46,
    "start_time": "2024-02-26T17:49:24.559Z"
   },
   {
    "duration": 503,
    "start_time": "2024-02-26T17:49:38.721Z"
   },
   {
    "duration": 2,
    "start_time": "2024-02-26T17:49:39.226Z"
   },
   {
    "duration": 7819,
    "start_time": "2024-02-26T17:49:39.230Z"
   },
   {
    "duration": 2,
    "start_time": "2024-02-26T17:49:47.051Z"
   },
   {
    "duration": 172,
    "start_time": "2024-02-26T17:49:47.055Z"
   },
   {
    "duration": 50,
    "start_time": "2024-02-26T17:49:47.228Z"
   },
   {
    "duration": 33,
    "start_time": "2024-02-26T17:49:47.279Z"
   },
   {
    "duration": 3,
    "start_time": "2024-02-26T17:49:47.313Z"
   },
   {
    "duration": 364,
    "start_time": "2024-02-26T17:49:47.318Z"
   },
   {
    "duration": 233,
    "start_time": "2024-02-26T17:49:47.684Z"
   },
   {
    "duration": 228,
    "start_time": "2024-02-26T17:49:47.919Z"
   },
   {
    "duration": 270,
    "start_time": "2024-02-26T17:49:48.148Z"
   },
   {
    "duration": 246,
    "start_time": "2024-02-26T17:49:48.419Z"
   },
   {
    "duration": 2,
    "start_time": "2024-02-26T17:49:48.666Z"
   },
   {
    "duration": 77,
    "start_time": "2024-02-26T17:49:48.670Z"
   },
   {
    "duration": 3,
    "start_time": "2024-02-26T17:49:48.748Z"
   },
   {
    "duration": 93,
    "start_time": "2024-02-26T17:49:48.752Z"
   },
   {
    "duration": 2,
    "start_time": "2024-02-26T17:49:48.847Z"
   },
   {
    "duration": 79,
    "start_time": "2024-02-26T17:49:48.850Z"
   },
   {
    "duration": 3,
    "start_time": "2024-02-26T17:49:48.930Z"
   },
   {
    "duration": 83,
    "start_time": "2024-02-26T17:49:48.934Z"
   },
   {
    "duration": 2,
    "start_time": "2024-02-26T17:49:49.019Z"
   },
   {
    "duration": 84,
    "start_time": "2024-02-26T17:49:49.022Z"
   },
   {
    "duration": 91,
    "start_time": "2024-02-26T17:50:16.650Z"
   },
   {
    "duration": 35,
    "start_time": "2024-02-26T17:50:45.878Z"
   },
   {
    "duration": 68,
    "start_time": "2024-02-26T17:52:18.846Z"
   },
   {
    "duration": 493,
    "start_time": "2024-02-26T17:56:24.413Z"
   },
   {
    "duration": 2,
    "start_time": "2024-02-26T17:56:24.908Z"
   },
   {
    "duration": 8578,
    "start_time": "2024-02-26T17:56:24.912Z"
   },
   {
    "duration": 3,
    "start_time": "2024-02-26T17:56:33.492Z"
   },
   {
    "duration": 171,
    "start_time": "2024-02-26T17:56:33.496Z"
   },
   {
    "duration": 47,
    "start_time": "2024-02-26T17:56:33.669Z"
   },
   {
    "duration": 32,
    "start_time": "2024-02-26T17:56:33.718Z"
   },
   {
    "duration": 3,
    "start_time": "2024-02-26T17:56:33.751Z"
   },
   {
    "duration": 83,
    "start_time": "2024-02-26T17:56:33.755Z"
   },
   {
    "duration": 53,
    "start_time": "2024-02-26T17:56:33.840Z"
   },
   {
    "duration": 40,
    "start_time": "2024-02-26T17:56:33.894Z"
   },
   {
    "duration": 65,
    "start_time": "2024-02-26T17:56:33.936Z"
   },
   {
    "duration": 0,
    "start_time": "2024-02-26T17:56:34.003Z"
   },
   {
    "duration": 0,
    "start_time": "2024-02-26T17:56:34.004Z"
   },
   {
    "duration": 0,
    "start_time": "2024-02-26T17:56:34.005Z"
   },
   {
    "duration": 0,
    "start_time": "2024-02-26T17:56:34.006Z"
   },
   {
    "duration": 0,
    "start_time": "2024-02-26T17:56:34.007Z"
   },
   {
    "duration": 0,
    "start_time": "2024-02-26T17:56:34.008Z"
   },
   {
    "duration": 0,
    "start_time": "2024-02-26T17:56:34.009Z"
   },
   {
    "duration": 0,
    "start_time": "2024-02-26T17:56:34.010Z"
   },
   {
    "duration": 0,
    "start_time": "2024-02-26T17:56:34.012Z"
   },
   {
    "duration": 0,
    "start_time": "2024-02-26T17:56:34.012Z"
   },
   {
    "duration": 0,
    "start_time": "2024-02-26T17:56:34.013Z"
   },
   {
    "duration": 0,
    "start_time": "2024-02-26T17:56:34.015Z"
   },
   {
    "duration": 0,
    "start_time": "2024-02-26T17:56:34.015Z"
   },
   {
    "duration": 0,
    "start_time": "2024-02-26T17:56:34.017Z"
   },
   {
    "duration": 0,
    "start_time": "2024-02-26T17:56:34.018Z"
   },
   {
    "duration": 471,
    "start_time": "2024-02-26T17:57:13.881Z"
   },
   {
    "duration": 4,
    "start_time": "2024-02-26T17:57:14.354Z"
   },
   {
    "duration": 7846,
    "start_time": "2024-02-26T17:57:14.359Z"
   },
   {
    "duration": 3,
    "start_time": "2024-02-26T17:57:22.207Z"
   },
   {
    "duration": 217,
    "start_time": "2024-02-26T17:57:22.211Z"
   },
   {
    "duration": 49,
    "start_time": "2024-02-26T17:57:22.430Z"
   },
   {
    "duration": 36,
    "start_time": "2024-02-26T17:57:22.481Z"
   },
   {
    "duration": 3,
    "start_time": "2024-02-26T17:57:22.518Z"
   },
   {
    "duration": 104,
    "start_time": "2024-02-26T17:57:22.522Z"
   },
   {
    "duration": 51,
    "start_time": "2024-02-26T17:57:22.628Z"
   },
   {
    "duration": 63,
    "start_time": "2024-02-26T17:57:22.681Z"
   },
   {
    "duration": 0,
    "start_time": "2024-02-26T17:57:22.745Z"
   },
   {
    "duration": 0,
    "start_time": "2024-02-26T17:57:22.746Z"
   },
   {
    "duration": 0,
    "start_time": "2024-02-26T17:57:22.747Z"
   },
   {
    "duration": 0,
    "start_time": "2024-02-26T17:57:22.748Z"
   },
   {
    "duration": 0,
    "start_time": "2024-02-26T17:57:22.749Z"
   },
   {
    "duration": 0,
    "start_time": "2024-02-26T17:57:22.750Z"
   },
   {
    "duration": 0,
    "start_time": "2024-02-26T17:57:22.751Z"
   },
   {
    "duration": 0,
    "start_time": "2024-02-26T17:57:22.752Z"
   },
   {
    "duration": 0,
    "start_time": "2024-02-26T17:57:22.753Z"
   },
   {
    "duration": 0,
    "start_time": "2024-02-26T17:57:22.753Z"
   },
   {
    "duration": 0,
    "start_time": "2024-02-26T17:57:22.754Z"
   },
   {
    "duration": 0,
    "start_time": "2024-02-26T17:57:22.755Z"
   },
   {
    "duration": 0,
    "start_time": "2024-02-26T17:57:22.756Z"
   },
   {
    "duration": 0,
    "start_time": "2024-02-26T17:57:22.757Z"
   },
   {
    "duration": 6,
    "start_time": "2024-02-26T17:58:16.670Z"
   },
   {
    "duration": 2,
    "start_time": "2024-02-26T18:00:21.870Z"
   },
   {
    "duration": 75,
    "start_time": "2024-02-26T18:00:24.978Z"
   },
   {
    "duration": 3,
    "start_time": "2024-02-26T18:00:32.668Z"
   },
   {
    "duration": 63,
    "start_time": "2024-02-26T18:01:37.408Z"
   },
   {
    "duration": 3,
    "start_time": "2024-02-26T18:01:50.064Z"
   },
   {
    "duration": 29,
    "start_time": "2024-02-26T18:01:52.729Z"
   },
   {
    "duration": 3,
    "start_time": "2024-02-26T18:02:15.007Z"
   },
   {
    "duration": 62,
    "start_time": "2024-02-26T18:02:17.071Z"
   },
   {
    "duration": 2,
    "start_time": "2024-02-26T18:02:26.371Z"
   },
   {
    "duration": 68,
    "start_time": "2024-02-26T18:02:28.271Z"
   },
   {
    "duration": 2,
    "start_time": "2024-02-26T18:02:35.440Z"
   },
   {
    "duration": 108,
    "start_time": "2024-02-26T18:02:41.982Z"
   },
   {
    "duration": 62,
    "start_time": "2024-02-26T18:03:54.868Z"
   },
   {
    "duration": 3,
    "start_time": "2024-02-26T18:04:09.653Z"
   },
   {
    "duration": 31,
    "start_time": "2024-02-26T18:04:11.735Z"
   },
   {
    "duration": 32,
    "start_time": "2024-02-26T18:05:04.262Z"
   },
   {
    "duration": 3,
    "start_time": "2024-02-26T18:05:09.107Z"
   },
   {
    "duration": 35,
    "start_time": "2024-02-26T18:05:11.364Z"
   },
   {
    "duration": 2,
    "start_time": "2024-02-26T18:05:18.566Z"
   },
   {
    "duration": 32,
    "start_time": "2024-02-26T18:05:21.215Z"
   },
   {
    "duration": 2,
    "start_time": "2024-02-26T18:51:47.176Z"
   },
   {
    "duration": 63,
    "start_time": "2024-02-26T18:51:49.242Z"
   },
   {
    "duration": 2,
    "start_time": "2024-02-26T18:52:55.951Z"
   },
   {
    "duration": 62,
    "start_time": "2024-02-26T18:52:58.670Z"
   },
   {
    "duration": 3,
    "start_time": "2024-02-26T18:56:25.628Z"
   },
   {
    "duration": 62,
    "start_time": "2024-02-26T18:56:28.615Z"
   },
   {
    "duration": 2,
    "start_time": "2024-02-26T18:56:50.833Z"
   },
   {
    "duration": 62,
    "start_time": "2024-02-26T18:56:53.356Z"
   },
   {
    "duration": 3,
    "start_time": "2024-02-26T18:58:13.644Z"
   },
   {
    "duration": 64,
    "start_time": "2024-02-26T18:58:15.672Z"
   },
   {
    "duration": 2,
    "start_time": "2024-02-26T18:59:34.594Z"
   },
   {
    "duration": 3,
    "start_time": "2024-02-26T18:59:38.228Z"
   },
   {
    "duration": 62,
    "start_time": "2024-02-26T18:59:40.428Z"
   },
   {
    "duration": 3,
    "start_time": "2024-02-26T19:00:33.414Z"
   },
   {
    "duration": 64,
    "start_time": "2024-02-26T19:00:35.763Z"
   },
   {
    "duration": 536,
    "start_time": "2024-02-26T19:00:42.619Z"
   },
   {
    "duration": 3,
    "start_time": "2024-02-26T19:00:43.157Z"
   },
   {
    "duration": 8624,
    "start_time": "2024-02-26T19:00:43.161Z"
   },
   {
    "duration": 3,
    "start_time": "2024-02-26T19:00:51.786Z"
   },
   {
    "duration": 192,
    "start_time": "2024-02-26T19:00:51.790Z"
   },
   {
    "duration": 57,
    "start_time": "2024-02-26T19:00:51.984Z"
   },
   {
    "duration": 34,
    "start_time": "2024-02-26T19:00:52.043Z"
   },
   {
    "duration": 89,
    "start_time": "2024-02-26T19:00:52.078Z"
   },
   {
    "duration": 0,
    "start_time": "2024-02-26T19:00:52.169Z"
   },
   {
    "duration": 0,
    "start_time": "2024-02-26T19:00:52.171Z"
   },
   {
    "duration": 0,
    "start_time": "2024-02-26T19:00:52.172Z"
   },
   {
    "duration": 0,
    "start_time": "2024-02-26T19:00:52.173Z"
   },
   {
    "duration": 0,
    "start_time": "2024-02-26T19:00:52.175Z"
   },
   {
    "duration": 0,
    "start_time": "2024-02-26T19:00:52.175Z"
   },
   {
    "duration": 0,
    "start_time": "2024-02-26T19:00:52.177Z"
   },
   {
    "duration": 0,
    "start_time": "2024-02-26T19:00:52.178Z"
   },
   {
    "duration": 0,
    "start_time": "2024-02-26T19:00:52.179Z"
   },
   {
    "duration": 0,
    "start_time": "2024-02-26T19:00:52.180Z"
   },
   {
    "duration": 0,
    "start_time": "2024-02-26T19:00:52.181Z"
   },
   {
    "duration": 0,
    "start_time": "2024-02-26T19:00:52.182Z"
   },
   {
    "duration": 0,
    "start_time": "2024-02-26T19:00:52.183Z"
   },
   {
    "duration": 0,
    "start_time": "2024-02-26T19:00:52.184Z"
   },
   {
    "duration": 0,
    "start_time": "2024-02-26T19:00:52.185Z"
   },
   {
    "duration": 0,
    "start_time": "2024-02-26T19:00:52.186Z"
   },
   {
    "duration": 0,
    "start_time": "2024-02-26T19:00:52.187Z"
   },
   {
    "duration": 41,
    "start_time": "2024-02-26T19:01:17.924Z"
   },
   {
    "duration": 62,
    "start_time": "2024-02-26T19:01:22.744Z"
   },
   {
    "duration": 6,
    "start_time": "2024-02-26T19:01:25.571Z"
   },
   {
    "duration": 6,
    "start_time": "2024-02-26T19:01:28.320Z"
   },
   {
    "duration": 7,
    "start_time": "2024-02-26T19:01:30.624Z"
   },
   {
    "duration": 3,
    "start_time": "2024-02-26T19:01:33.652Z"
   },
   {
    "duration": 29,
    "start_time": "2024-02-26T19:01:36.104Z"
   },
   {
    "duration": 2,
    "start_time": "2024-02-26T19:01:40.358Z"
   },
   {
    "duration": 64,
    "start_time": "2024-02-26T19:01:42.732Z"
   },
   {
    "duration": 3,
    "start_time": "2024-02-26T19:01:50.920Z"
   },
   {
    "duration": 34,
    "start_time": "2024-02-26T19:01:53.065Z"
   },
   {
    "duration": 2,
    "start_time": "2024-02-26T19:02:53.024Z"
   },
   {
    "duration": 3,
    "start_time": "2024-02-26T19:06:20.713Z"
   },
   {
    "duration": 31,
    "start_time": "2024-02-26T19:06:23.694Z"
   },
   {
    "duration": 3,
    "start_time": "2024-02-26T19:07:24.168Z"
   },
   {
    "duration": 31,
    "start_time": "2024-02-26T19:07:26.476Z"
   },
   {
    "duration": 3,
    "start_time": "2024-02-26T19:07:42.080Z"
   },
   {
    "duration": 3,
    "start_time": "2024-02-26T19:07:44.297Z"
   },
   {
    "duration": 31,
    "start_time": "2024-02-26T19:07:46.655Z"
   },
   {
    "duration": 3,
    "start_time": "2024-02-26T19:11:28.069Z"
   },
   {
    "duration": 37,
    "start_time": "2024-02-26T19:11:30.236Z"
   },
   {
    "duration": 3,
    "start_time": "2024-02-26T19:14:29.281Z"
   },
   {
    "duration": 35,
    "start_time": "2024-02-26T19:14:32.393Z"
   },
   {
    "duration": 35,
    "start_time": "2024-02-26T19:14:34.999Z"
   },
   {
    "duration": 3,
    "start_time": "2024-02-26T19:17:03.135Z"
   },
   {
    "duration": 3,
    "start_time": "2024-02-26T19:17:22.561Z"
   },
   {
    "duration": 3,
    "start_time": "2024-02-26T19:17:25.457Z"
   },
   {
    "duration": 53,
    "start_time": "2024-02-26T19:17:27.811Z"
   },
   {
    "duration": 3,
    "start_time": "2024-02-26T19:18:03.831Z"
   },
   {
    "duration": 47,
    "start_time": "2024-02-26T19:18:05.785Z"
   },
   {
    "duration": 3,
    "start_time": "2024-02-26T19:18:20.121Z"
   },
   {
    "duration": 3,
    "start_time": "2024-02-26T19:20:10.386Z"
   },
   {
    "duration": 3,
    "start_time": "2024-02-26T19:20:12.858Z"
   },
   {
    "duration": 59,
    "start_time": "2024-02-26T19:20:15.667Z"
   },
   {
    "duration": 2,
    "start_time": "2024-02-26T19:20:22.743Z"
   },
   {
    "duration": 46,
    "start_time": "2024-02-26T19:20:25.156Z"
   },
   {
    "duration": 36,
    "start_time": "2024-02-26T19:29:44.498Z"
   },
   {
    "duration": 2,
    "start_time": "2024-02-26T19:29:58.389Z"
   },
   {
    "duration": 33,
    "start_time": "2024-02-26T19:30:00.439Z"
   },
   {
    "duration": 3,
    "start_time": "2024-02-26T20:00:58.152Z"
   },
   {
    "duration": 35,
    "start_time": "2024-02-26T20:01:03.951Z"
   },
   {
    "duration": 5,
    "start_time": "2024-02-26T20:01:13.330Z"
   },
   {
    "duration": 40,
    "start_time": "2024-02-26T20:01:15.793Z"
   },
   {
    "duration": 31,
    "start_time": "2024-02-26T20:01:18.262Z"
   },
   {
    "duration": 3,
    "start_time": "2024-02-26T20:01:21.083Z"
   },
   {
    "duration": 30,
    "start_time": "2024-02-26T20:01:24.522Z"
   },
   {
    "duration": 532,
    "start_time": "2024-02-26T20:01:32.111Z"
   },
   {
    "duration": 3,
    "start_time": "2024-02-26T20:01:32.644Z"
   },
   {
    "duration": 8032,
    "start_time": "2024-02-26T20:01:32.649Z"
   },
   {
    "duration": 2,
    "start_time": "2024-02-26T20:01:40.683Z"
   },
   {
    "duration": 175,
    "start_time": "2024-02-26T20:01:40.686Z"
   },
   {
    "duration": 56,
    "start_time": "2024-02-26T20:01:40.863Z"
   },
   {
    "duration": 33,
    "start_time": "2024-02-26T20:01:40.920Z"
   },
   {
    "duration": 40,
    "start_time": "2024-02-26T20:01:40.955Z"
   },
   {
    "duration": 3,
    "start_time": "2024-02-26T20:01:40.996Z"
   },
   {
    "duration": 84,
    "start_time": "2024-02-26T20:01:41.002Z"
   },
   {
    "duration": 58,
    "start_time": "2024-02-26T20:01:41.088Z"
   },
   {
    "duration": 2,
    "start_time": "2024-02-26T20:01:41.148Z"
   },
   {
    "duration": 31,
    "start_time": "2024-02-26T20:01:41.152Z"
   },
   {
    "duration": 3,
    "start_time": "2024-02-26T20:01:41.184Z"
   },
   {
    "duration": 68,
    "start_time": "2024-02-26T20:01:41.188Z"
   },
   {
    "duration": 3,
    "start_time": "2024-02-26T20:01:41.258Z"
   },
   {
    "duration": 40,
    "start_time": "2024-02-26T20:01:41.263Z"
   },
   {
    "duration": 3,
    "start_time": "2024-02-26T20:01:41.305Z"
   },
   {
    "duration": 40,
    "start_time": "2024-02-26T20:01:41.310Z"
   },
   {
    "duration": 3,
    "start_time": "2024-02-26T20:01:41.352Z"
   },
   {
    "duration": 37,
    "start_time": "2024-02-26T20:01:41.357Z"
   },
   {
    "duration": 3,
    "start_time": "2024-02-26T20:01:57.926Z"
   },
   {
    "duration": 32,
    "start_time": "2024-02-26T20:02:00.106Z"
   },
   {
    "duration": 3,
    "start_time": "2024-02-26T20:04:31.759Z"
   },
   {
    "duration": 33,
    "start_time": "2024-02-26T20:04:34.202Z"
   },
   {
    "duration": 29,
    "start_time": "2024-02-26T20:04:36.475Z"
   },
   {
    "duration": 5,
    "start_time": "2024-02-26T20:04:38.599Z"
   },
   {
    "duration": 32,
    "start_time": "2024-02-26T20:04:40.589Z"
   },
   {
    "duration": 3,
    "start_time": "2024-02-26T20:14:59.132Z"
   },
   {
    "duration": 32,
    "start_time": "2024-02-26T20:15:01.577Z"
   },
   {
    "duration": 29,
    "start_time": "2024-02-26T20:15:07.177Z"
   },
   {
    "duration": 3,
    "start_time": "2024-02-26T20:15:09.801Z"
   },
   {
    "duration": 30,
    "start_time": "2024-02-26T20:15:17.547Z"
   },
   {
    "duration": 478,
    "start_time": "2024-02-26T20:15:40.272Z"
   },
   {
    "duration": 3,
    "start_time": "2024-02-26T20:15:40.752Z"
   },
   {
    "duration": 7682,
    "start_time": "2024-02-26T20:15:40.756Z"
   },
   {
    "duration": 2,
    "start_time": "2024-02-26T20:15:48.440Z"
   },
   {
    "duration": 194,
    "start_time": "2024-02-26T20:15:48.443Z"
   },
   {
    "duration": 51,
    "start_time": "2024-02-26T20:15:48.638Z"
   },
   {
    "duration": 41,
    "start_time": "2024-02-26T20:15:48.690Z"
   },
   {
    "duration": 42,
    "start_time": "2024-02-26T20:15:48.733Z"
   },
   {
    "duration": 2,
    "start_time": "2024-02-26T20:15:48.776Z"
   },
   {
    "duration": 88,
    "start_time": "2024-02-26T20:15:48.780Z"
   },
   {
    "duration": 60,
    "start_time": "2024-02-26T20:15:48.869Z"
   },
   {
    "duration": 3,
    "start_time": "2024-02-26T20:15:48.931Z"
   },
   {
    "duration": 32,
    "start_time": "2024-02-26T20:15:48.935Z"
   },
   {
    "duration": 3,
    "start_time": "2024-02-26T20:15:48.968Z"
   },
   {
    "duration": 68,
    "start_time": "2024-02-26T20:15:48.972Z"
   },
   {
    "duration": 2,
    "start_time": "2024-02-26T20:15:49.042Z"
   },
   {
    "duration": 35,
    "start_time": "2024-02-26T20:15:49.045Z"
   },
   {
    "duration": 3,
    "start_time": "2024-02-26T20:15:49.081Z"
   },
   {
    "duration": 40,
    "start_time": "2024-02-26T20:15:49.085Z"
   },
   {
    "duration": 3,
    "start_time": "2024-02-26T20:15:49.127Z"
   },
   {
    "duration": 34,
    "start_time": "2024-02-26T20:15:49.131Z"
   },
   {
    "duration": 3,
    "start_time": "2024-02-26T20:16:09.270Z"
   },
   {
    "duration": 39,
    "start_time": "2024-02-26T20:16:12.289Z"
   },
   {
    "duration": 3,
    "start_time": "2024-02-26T20:25:05.888Z"
   },
   {
    "duration": 106,
    "start_time": "2024-02-26T20:25:08.537Z"
   },
   {
    "duration": 2,
    "start_time": "2024-02-26T20:26:17.258Z"
   },
   {
    "duration": 80,
    "start_time": "2024-02-26T20:26:19.429Z"
   },
   {
    "duration": 3,
    "start_time": "2024-02-26T20:27:58.040Z"
   },
   {
    "duration": 69,
    "start_time": "2024-02-26T20:28:00.288Z"
   },
   {
    "duration": 3,
    "start_time": "2024-02-26T20:29:23.854Z"
   },
   {
    "duration": 3,
    "start_time": "2024-02-26T20:29:32.019Z"
   },
   {
    "duration": 66,
    "start_time": "2024-02-26T20:29:36.976Z"
   },
   {
    "duration": 3,
    "start_time": "2024-02-26T20:29:47.792Z"
   },
   {
    "duration": 65,
    "start_time": "2024-02-26T20:29:49.804Z"
   },
   {
    "duration": 2,
    "start_time": "2024-02-26T20:31:04.526Z"
   },
   {
    "duration": 67,
    "start_time": "2024-02-26T20:31:06.568Z"
   },
   {
    "duration": 2,
    "start_time": "2024-02-26T20:31:39.497Z"
   },
   {
    "duration": 51,
    "start_time": "2024-02-26T20:31:41.372Z"
   },
   {
    "duration": 2,
    "start_time": "2024-02-26T20:32:04.976Z"
   },
   {
    "duration": 85,
    "start_time": "2024-02-26T20:32:07.251Z"
   },
   {
    "duration": 2,
    "start_time": "2024-02-26T20:33:05.671Z"
   },
   {
    "duration": 54,
    "start_time": "2024-02-26T20:33:07.788Z"
   },
   {
    "duration": 3,
    "start_time": "2024-02-26T20:34:08.411Z"
   },
   {
    "duration": 79,
    "start_time": "2024-02-26T20:34:10.284Z"
   },
   {
    "duration": 6,
    "start_time": "2024-02-26T20:35:04.142Z"
   },
   {
    "duration": 69,
    "start_time": "2024-02-26T20:35:06.286Z"
   },
   {
    "duration": 3,
    "start_time": "2024-02-26T20:37:42.413Z"
   },
   {
    "duration": 78,
    "start_time": "2024-02-26T20:37:44.463Z"
   },
   {
    "duration": 78,
    "start_time": "2024-02-26T20:37:51.065Z"
   },
   {
    "duration": 3,
    "start_time": "2024-02-26T20:38:40.622Z"
   },
   {
    "duration": 68,
    "start_time": "2024-02-26T20:38:42.827Z"
   },
   {
    "duration": 3,
    "start_time": "2024-02-26T20:39:16.489Z"
   },
   {
    "duration": 2,
    "start_time": "2024-02-26T20:39:18.262Z"
   },
   {
    "duration": 67,
    "start_time": "2024-02-26T20:39:20.111Z"
   },
   {
    "duration": 80,
    "start_time": "2024-02-26T20:42:11.956Z"
   },
   {
    "duration": 3,
    "start_time": "2024-02-26T20:42:16.765Z"
   },
   {
    "duration": 32,
    "start_time": "2024-02-26T20:42:19.090Z"
   },
   {
    "duration": 500,
    "start_time": "2024-02-26T20:45:25.828Z"
   },
   {
    "duration": 3,
    "start_time": "2024-02-26T20:45:26.330Z"
   },
   {
    "duration": 8267,
    "start_time": "2024-02-26T20:45:26.334Z"
   },
   {
    "duration": 3,
    "start_time": "2024-02-26T20:45:34.602Z"
   },
   {
    "duration": 182,
    "start_time": "2024-02-26T20:45:34.607Z"
   },
   {
    "duration": 49,
    "start_time": "2024-02-26T20:45:34.791Z"
   },
   {
    "duration": 32,
    "start_time": "2024-02-26T20:45:34.842Z"
   },
   {
    "duration": 39,
    "start_time": "2024-02-26T20:45:34.876Z"
   },
   {
    "duration": 3,
    "start_time": "2024-02-26T20:45:34.917Z"
   },
   {
    "duration": 88,
    "start_time": "2024-02-26T20:45:34.921Z"
   },
   {
    "duration": 54,
    "start_time": "2024-02-26T20:45:35.010Z"
   },
   {
    "duration": 3,
    "start_time": "2024-02-26T20:45:35.065Z"
   },
   {
    "duration": 38,
    "start_time": "2024-02-26T20:45:35.069Z"
   },
   {
    "duration": 2,
    "start_time": "2024-02-26T20:45:35.109Z"
   },
   {
    "duration": 83,
    "start_time": "2024-02-26T20:45:35.113Z"
   },
   {
    "duration": 2,
    "start_time": "2024-02-26T20:45:35.197Z"
   },
   {
    "duration": 41,
    "start_time": "2024-02-26T20:45:35.201Z"
   },
   {
    "duration": 2,
    "start_time": "2024-02-26T20:45:35.243Z"
   },
   {
    "duration": 37,
    "start_time": "2024-02-26T20:45:35.247Z"
   },
   {
    "duration": 2,
    "start_time": "2024-02-26T20:45:35.286Z"
   },
   {
    "duration": 58,
    "start_time": "2024-02-26T20:45:35.289Z"
   },
   {
    "duration": 3,
    "start_time": "2024-02-26T20:45:59.241Z"
   },
   {
    "duration": 21,
    "start_time": "2024-02-27T09:38:02.578Z"
   },
   {
    "duration": 75,
    "start_time": "2024-02-27T09:38:02.600Z"
   },
   {
    "duration": 45,
    "start_time": "2024-02-27T09:38:02.676Z"
   },
   {
    "duration": 45,
    "start_time": "2024-02-27T09:38:02.722Z"
   },
   {
    "duration": 84,
    "start_time": "2024-02-27T09:38:02.769Z"
   },
   {
    "duration": 47,
    "start_time": "2024-02-27T09:38:02.855Z"
   },
   {
    "duration": 72,
    "start_time": "2024-02-27T09:38:02.903Z"
   },
   {
    "duration": 80,
    "start_time": "2024-02-27T09:38:02.977Z"
   },
   {
    "duration": 44,
    "start_time": "2024-02-27T09:38:03.059Z"
   },
   {
    "duration": 56,
    "start_time": "2024-02-27T09:38:03.105Z"
   },
   {
    "duration": 43,
    "start_time": "2024-02-27T09:38:03.162Z"
   },
   {
    "duration": 11,
    "start_time": "2024-02-27T09:38:03.206Z"
   },
   {
    "duration": 127,
    "start_time": "2024-02-27T09:38:03.218Z"
   },
   {
    "duration": 88,
    "start_time": "2024-02-27T09:38:03.347Z"
   },
   {
    "duration": 236,
    "start_time": "2024-02-27T09:38:03.437Z"
   },
   {
    "duration": 9,
    "start_time": "2024-02-27T09:38:03.675Z"
   },
   {
    "duration": 76,
    "start_time": "2024-02-27T09:38:03.686Z"
   },
   {
    "duration": 37,
    "start_time": "2024-02-27T09:38:03.763Z"
   },
   {
    "duration": 88,
    "start_time": "2024-02-27T09:38:03.802Z"
   },
   {
    "duration": 9,
    "start_time": "2024-02-27T09:38:03.894Z"
   },
   {
    "duration": 52,
    "start_time": "2024-02-27T09:38:03.904Z"
   },
   {
    "duration": 8,
    "start_time": "2024-04-16T19:09:33.554Z"
   },
   {
    "duration": 44,
    "start_time": "2024-04-16T19:09:47.557Z"
   },
   {
    "duration": 487,
    "start_time": "2024-04-16T19:09:54.034Z"
   },
   {
    "duration": 3,
    "start_time": "2024-04-16T19:09:54.523Z"
   },
   {
    "duration": 5965,
    "start_time": "2024-04-16T19:09:54.528Z"
   },
   {
    "duration": 3,
    "start_time": "2024-04-16T19:10:00.495Z"
   },
   {
    "duration": 285,
    "start_time": "2024-04-16T19:10:00.500Z"
   },
   {
    "duration": 49,
    "start_time": "2024-04-16T19:10:00.786Z"
   },
   {
    "duration": 69,
    "start_time": "2024-04-16T19:10:00.837Z"
   },
   {
    "duration": 89,
    "start_time": "2024-04-16T19:10:00.907Z"
   },
   {
    "duration": 44,
    "start_time": "2024-04-16T19:10:00.998Z"
   },
   {
    "duration": 152,
    "start_time": "2024-04-16T19:10:01.045Z"
   },
   {
    "duration": 55,
    "start_time": "2024-04-16T19:10:01.199Z"
   },
   {
    "duration": 60,
    "start_time": "2024-04-16T19:10:01.256Z"
   },
   {
    "duration": 100,
    "start_time": "2024-04-16T19:10:01.318Z"
   },
   {
    "duration": 10,
    "start_time": "2024-04-16T19:10:01.420Z"
   },
   {
    "duration": 48,
    "start_time": "2024-04-16T19:10:01.431Z"
   },
   {
    "duration": 3,
    "start_time": "2024-04-16T19:10:01.480Z"
   },
   {
    "duration": 126,
    "start_time": "2024-04-16T19:10:01.485Z"
   },
   {
    "duration": 3,
    "start_time": "2024-04-16T19:10:01.613Z"
   },
   {
    "duration": 43,
    "start_time": "2024-04-16T19:10:01.618Z"
   },
   {
    "duration": 3,
    "start_time": "2024-04-16T19:10:01.663Z"
   },
   {
    "duration": 53,
    "start_time": "2024-04-16T19:10:01.667Z"
   },
   {
    "duration": 3,
    "start_time": "2024-04-16T19:10:01.722Z"
   },
   {
    "duration": 63,
    "start_time": "2024-04-16T19:10:01.726Z"
   },
   {
    "duration": 58,
    "start_time": "2024-04-16T19:10:01.790Z"
   },
   {
    "duration": 3,
    "start_time": "2024-04-16T19:12:06.753Z"
   },
   {
    "duration": 28,
    "start_time": "2024-04-16T19:12:08.609Z"
   },
   {
    "duration": 2,
    "start_time": "2024-04-16T19:30:45.350Z"
   },
   {
    "duration": 110,
    "start_time": "2024-04-16T19:30:48.357Z"
   },
   {
    "duration": 3,
    "start_time": "2024-04-16T19:31:35.228Z"
   },
   {
    "duration": 45,
    "start_time": "2024-04-16T19:31:38.828Z"
   },
   {
    "duration": 3,
    "start_time": "2024-04-16T19:31:55.916Z"
   },
   {
    "duration": 48,
    "start_time": "2024-04-16T19:31:58.587Z"
   },
   {
    "duration": 548,
    "start_time": "2024-04-16T19:32:38.360Z"
   },
   {
    "duration": 3,
    "start_time": "2024-04-16T19:32:38.909Z"
   },
   {
    "duration": 5883,
    "start_time": "2024-04-16T19:32:38.914Z"
   },
   {
    "duration": 4,
    "start_time": "2024-04-16T19:32:44.798Z"
   },
   {
    "duration": 170,
    "start_time": "2024-04-16T19:32:44.804Z"
   },
   {
    "duration": 47,
    "start_time": "2024-04-16T19:32:44.976Z"
   },
   {
    "duration": 32,
    "start_time": "2024-04-16T19:32:45.024Z"
   },
   {
    "duration": 40,
    "start_time": "2024-04-16T19:32:45.058Z"
   },
   {
    "duration": 20,
    "start_time": "2024-04-16T19:32:45.100Z"
   },
   {
    "duration": 159,
    "start_time": "2024-04-16T19:32:45.121Z"
   },
   {
    "duration": 50,
    "start_time": "2024-04-16T19:32:45.281Z"
   },
   {
    "duration": 6,
    "start_time": "2024-04-16T19:32:45.333Z"
   },
   {
    "duration": 63,
    "start_time": "2024-04-16T19:32:45.341Z"
   },
   {
    "duration": 2,
    "start_time": "2024-04-16T19:32:45.407Z"
   },
   {
    "duration": 75,
    "start_time": "2024-04-16T19:32:45.410Z"
   },
   {
    "duration": 18,
    "start_time": "2024-04-16T19:32:45.487Z"
   },
   {
    "duration": 42,
    "start_time": "2024-04-16T19:32:45.507Z"
   },
   {
    "duration": 3,
    "start_time": "2024-04-16T19:32:45.551Z"
   },
   {
    "duration": 105,
    "start_time": "2024-04-16T19:32:45.555Z"
   },
   {
    "duration": 3,
    "start_time": "2024-04-16T19:32:45.661Z"
   },
   {
    "duration": 131,
    "start_time": "2024-04-16T19:32:45.666Z"
   },
   {
    "duration": 0,
    "start_time": "2024-04-16T19:32:45.799Z"
   },
   {
    "duration": 0,
    "start_time": "2024-04-16T19:32:45.800Z"
   },
   {
    "duration": 0,
    "start_time": "2024-04-16T19:32:45.802Z"
   },
   {
    "duration": 0,
    "start_time": "2024-04-16T19:32:45.803Z"
   },
   {
    "duration": 0,
    "start_time": "2024-04-16T19:32:45.805Z"
   },
   {
    "duration": 2,
    "start_time": "2024-04-16T19:33:09.359Z"
   },
   {
    "duration": 39,
    "start_time": "2024-04-16T19:33:11.342Z"
   },
   {
    "duration": 2,
    "start_time": "2024-04-16T19:35:55.403Z"
   },
   {
    "duration": 65,
    "start_time": "2024-04-16T19:35:57.619Z"
   },
   {
    "duration": 3,
    "start_time": "2024-04-16T19:37:35.207Z"
   },
   {
    "duration": 64,
    "start_time": "2024-04-16T19:37:37.679Z"
   },
   {
    "duration": 3,
    "start_time": "2024-04-16T19:45:07.751Z"
   },
   {
    "duration": 69,
    "start_time": "2024-04-16T19:45:14.147Z"
   },
   {
    "duration": 3,
    "start_time": "2024-04-16T19:49:02.496Z"
   },
   {
    "duration": 64,
    "start_time": "2024-04-16T19:49:04.169Z"
   },
   {
    "duration": 63,
    "start_time": "2024-04-16T19:50:35.825Z"
   },
   {
    "duration": 3,
    "start_time": "2024-04-16T19:50:58.582Z"
   },
   {
    "duration": 36,
    "start_time": "2024-04-16T19:51:00.601Z"
   },
   {
    "duration": 550,
    "start_time": "2024-04-16T19:56:45.849Z"
   },
   {
    "duration": 3,
    "start_time": "2024-04-16T19:56:46.401Z"
   },
   {
    "duration": 7113,
    "start_time": "2024-04-16T19:56:46.406Z"
   },
   {
    "duration": 3,
    "start_time": "2024-04-16T19:56:53.521Z"
   },
   {
    "duration": 183,
    "start_time": "2024-04-16T19:56:53.525Z"
   },
   {
    "duration": 47,
    "start_time": "2024-04-16T19:56:53.709Z"
   },
   {
    "duration": 32,
    "start_time": "2024-04-16T19:56:53.758Z"
   },
   {
    "duration": 43,
    "start_time": "2024-04-16T19:56:53.792Z"
   },
   {
    "duration": 4,
    "start_time": "2024-04-16T19:56:53.836Z"
   },
   {
    "duration": 92,
    "start_time": "2024-04-16T19:56:53.843Z"
   },
   {
    "duration": 51,
    "start_time": "2024-04-16T19:56:53.936Z"
   },
   {
    "duration": 3,
    "start_time": "2024-04-16T19:56:53.989Z"
   },
   {
    "duration": 39,
    "start_time": "2024-04-16T19:56:53.993Z"
   },
   {
    "duration": 4,
    "start_time": "2024-04-16T19:56:54.035Z"
   },
   {
    "duration": 36,
    "start_time": "2024-04-16T19:56:54.040Z"
   },
   {
    "duration": 2,
    "start_time": "2024-04-16T19:56:54.078Z"
   },
   {
    "duration": 32,
    "start_time": "2024-04-16T19:56:54.082Z"
   },
   {
    "duration": 2,
    "start_time": "2024-04-16T19:56:54.116Z"
   },
   {
    "duration": 85,
    "start_time": "2024-04-16T19:56:54.120Z"
   },
   {
    "duration": 3,
    "start_time": "2024-04-16T19:56:54.207Z"
   },
   {
    "duration": 34,
    "start_time": "2024-04-16T19:56:54.211Z"
   },
   {
    "duration": 3,
    "start_time": "2024-04-16T19:56:54.246Z"
   },
   {
    "duration": 39,
    "start_time": "2024-04-16T19:56:54.250Z"
   },
   {
    "duration": 3,
    "start_time": "2024-04-16T19:56:54.290Z"
   },
   {
    "duration": 44,
    "start_time": "2024-04-16T19:56:54.294Z"
   },
   {
    "duration": 54,
    "start_time": "2024-04-16T19:56:54.339Z"
   }
  ],
  "kernelspec": {
   "display_name": "Python 3 (ipykernel)",
   "language": "python",
   "name": "python3"
  },
  "language_info": {
   "codemirror_mode": {
    "name": "ipython",
    "version": 3
   },
   "file_extension": ".py",
   "mimetype": "text/x-python",
   "name": "python",
   "nbconvert_exporter": "python",
   "pygments_lexer": "ipython3",
   "version": "3.9.5"
  },
  "toc": {
   "base_numbering": 1,
   "nav_menu": {},
   "number_sections": true,
   "sideBar": true,
   "skip_h1_title": true,
   "title_cell": "Table of Contents",
   "title_sidebar": "Contents",
   "toc_cell": false,
   "toc_position": {
    "height": "calc(100% - 180px)",
    "left": "10px",
    "top": "150px",
    "width": "263.594px"
   },
   "toc_section_display": true,
   "toc_window_display": true
  }
 },
 "nbformat": 4,
 "nbformat_minor": 2
}
